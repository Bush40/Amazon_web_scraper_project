{
 "cells": [
  {
   "cell_type": "code",
   "execution_count": 20,
   "id": "4c9514fd",
   "metadata": {},
   "outputs": [],
   "source": [
    "from bs4 import BeautifulSoup\n",
    "import requests\n",
    "import smtplib\n",
    "import time\n",
    "import datetime"
   ]
  },
  {
   "cell_type": "code",
   "execution_count": 21,
   "id": "a392596b",
   "metadata": {},
   "outputs": [],
   "source": [
    "#connect to website\n",
    "URL='https://www.amazon.in/Revind-442-Queen-Music-Cotton-T-Shirt/dp/B09DGH6X9R/ref=sr_1_1?crid=2UMG0A2VC81S&keywords=funny+got+data+mis+data+systems+business+analyst+t-shirt&qid=1688909413&sprefix=Funny+Got+%2Caps%2C297&sr=8-1'\n",
    "\n",
    "\n",
    "\n",
    "\n"
   ]
  },
  {
   "cell_type": "code",
   "execution_count": 22,
   "id": "e67e37e5",
   "metadata": {},
   "outputs": [
    {
     "name": "stdout",
     "output_type": "stream",
     "text": [
      "Revind.442 Queen Music Band in Black & White Men's 100% Cotton Round Neck T-Shirt\n"
     ]
    }
   ],
   "source": [
    "headers={\"User-Agent\": \"Mozilla/5.0 (Windows NT 10.0; Win64; x64) AppleWebKit/537.36\"}\n",
    "page=requests.get(URL,headers=headers)\n",
    "soup1=BeautifulSoup(page.content,\"html.parser\")\n",
    "\n",
    "soup2=BeautifulSoup(soup1.prettify(),\"html.parser\")\n",
    "title_element=soup2.find(id='productTitle')\n",
    "if title_element is not None:\n",
    "    title = title_element.get_text().strip()\n",
    "    print(title)\n",
    "else:\n",
    "    print(\"Title element not found.\")\n"
   ]
  },
  {
   "cell_type": "code",
   "execution_count": 57,
   "id": "c0eb408b",
   "metadata": {},
   "outputs": [
    {
     "name": "stdout",
     "output_type": "stream",
     "text": [
      "₹499\n"
     ]
    }
   ],
   "source": [
    "price_element=soup2.find(class_=\"a-offscreen\")\n",
    "if price_element:\n",
    "    price = price_element.get_text().strip()\n",
    "    print(price)\n",
    "else:\n",
    "    print(\"Price not found.\")"
   ]
  },
  {
   "cell_type": "code",
   "execution_count": 60,
   "id": "05cb0e46",
   "metadata": {},
   "outputs": [],
   "source": [
    "price=price_element.get_text().strip()[1:]"
   ]
  },
  {
   "cell_type": "code",
   "execution_count": 64,
   "id": "cc1e7d38",
   "metadata": {},
   "outputs": [],
   "source": [
    "titel=title_element.get_text().strip()"
   ]
  },
  {
   "cell_type": "code",
   "execution_count": 65,
   "id": "5ace2d62",
   "metadata": {},
   "outputs": [
    {
     "data": {
      "text/plain": [
       "\"Revind.442 Queen Music Band in Black & White Men's 100% Cotton Round Neck T-Shirt\""
      ]
     },
     "execution_count": 65,
     "metadata": {},
     "output_type": "execute_result"
    }
   ],
   "source": [
    "title=titel\n",
    "title"
   ]
  },
  {
   "cell_type": "code",
   "execution_count": 69,
   "id": "81b51d7a",
   "metadata": {},
   "outputs": [
    {
     "name": "stdout",
     "output_type": "stream",
     "text": [
      "Revind.442 Queen Music Band in Black & White Men's 100% Cotton Round Neck T-Shirt\n",
      "499\n"
     ]
    },
    {
     "data": {
      "text/plain": [
       "str"
      ]
     },
     "execution_count": 69,
     "metadata": {},
     "output_type": "execute_result"
    }
   ],
   "source": [
    "print(title)\n",
    "print(price)\n"
   ]
  },
  {
   "cell_type": "code",
   "execution_count": 73,
   "id": "c8ec28be",
   "metadata": {},
   "outputs": [
    {
     "name": "stdout",
     "output_type": "stream",
     "text": [
      "2023-07-09\n"
     ]
    }
   ],
   "source": [
    "import datetime\n",
    "today=datetime.date.today()\n",
    "print(today)"
   ]
  },
  {
   "cell_type": "code",
   "execution_count": 74,
   "id": "df0e99c1",
   "metadata": {},
   "outputs": [],
   "source": [
    "import csv\n",
    "header=['Title','Price','Date']\n",
    "data=[title,price,today]\n",
    "\n",
    "with open('AmazonwebScraperDataset.csv','w',newline='',encoding='UTF8') as f:\n",
    "    writer=csv.writer(f)\n",
    "    writer.writerow(header)\n",
    "    writer.writerow(data)"
   ]
  },
  {
   "cell_type": "code",
   "execution_count": 77,
   "id": "f986f314",
   "metadata": {},
   "outputs": [
    {
     "name": "stdout",
     "output_type": "stream",
     "text": [
      "                                               Title  Price        Date\n",
      "0  Revind.442 Queen Music Band in Black & White M...    499  2023-07-09\n",
      "1  Revind.442 Queen Music Band in Black & White M...    499  2023-07-09\n"
     ]
    }
   ],
   "source": [
    "import pandas as pd\n",
    "df=pd.read_csv(r\"C:\\Users\\User\\AmazonwebScraperDataset.csv\")\n",
    "print(df)"
   ]
  },
  {
   "cell_type": "code",
   "execution_count": 76,
   "id": "bd6cc689",
   "metadata": {},
   "outputs": [],
   "source": [
    "#appending data to csv\n",
    "with open('AmazonwebScraperDataset.csv','a+',newline='',encoding='UTF8') as f:\n",
    "    writer=csv.writer(f)\n",
    "    writer.writerow(data)"
   ]
  },
  {
   "cell_type": "code",
   "execution_count": null,
   "id": "35beabf1",
   "metadata": {},
   "outputs": [],
   "source": [
    "def check_price():\n",
    "    URL='https://www.amazon.in/Revind-442-Queen-Music-Cotton-T-Shirt/dp/B09DGH6X9R/ref=sr_1_1?crid=2UMG0A2VC81S&keywords=funny+got+data+mis+data+systems+business+analyst+t-shirt&qid=1688909413&sprefix=Funny+Got+%2Caps%2C297&sr=8-1'\n",
    "    headers={\"User-Agent\": \"Mozilla/5.0 (Windows NT 10.0; Win64; x64) AppleWebKit/537.36\"}\n",
    "    page=requests.get(URL,headers=headers)\n",
    "    soup1=BeautifulSoup(page.content,\"html.parser\")\n",
    "\n",
    "    soup2=BeautifulSoup(soup1.prettify(),\"html.parser\")\n",
    "    title_element=soup2.find(id='productTitle')\n",
    "    if title_element is not None:\n",
    "        title = title_element.get_text().strip()\n",
    "        print(title)\n",
    "    \n",
    "    price_element=soup2.find(class_=\"a-offscreen\")\n",
    "    if price_element:\n",
    "        price = price_element.get_text().strip()\n",
    "        print(price)\n",
    "   \n",
    "   \n",
    "    import datetime\n",
    "    today=datetime.date.today()\n",
    "    \n",
    "    import csv\n",
    "    header=['Title','Price','Date']\n",
    "    data=[title_element,price_element,today]\n",
    "\n",
    "    with open('AmazonwebScraperDataset.csv','a+',newline='',encoding='UTF8') as f:\n",
    "        writer=csv.writer(f)\n",
    "        writer.writerow(data)\n"
   ]
  },
  {
   "cell_type": "code",
   "execution_count": null,
   "id": "d84a275a",
   "metadata": {},
   "outputs": [],
   "source": [
    "while(True):\n",
    "    check_price()\n",
    "    time.sleep(5)"
   ]
  },
  {
   "cell_type": "code",
   "execution_count": null,
   "id": "202f881a",
   "metadata": {},
   "outputs": [],
   "source": [
    "import pandas as pd\n",
    "df=pd.read_csv(r\"C:\\Users\\User\\AmazonwebScraperDataset.csv\")\n",
    "print(df)"
   ]
  },
  {
   "cell_type": "code",
   "execution_count": null,
   "id": "5669f04e",
   "metadata": {},
   "outputs": [],
   "source": []
  }
 ],
 "metadata": {
  "kernelspec": {
   "display_name": "Python 3 (ipykernel)",
   "language": "python",
   "name": "python3"
  },
  "language_info": {
   "codemirror_mode": {
    "name": "ipython",
    "version": 3
   },
   "file_extension": ".py",
   "mimetype": "text/x-python",
   "name": "python",
   "nbconvert_exporter": "python",
   "pygments_lexer": "ipython3",
   "version": "3.9.12"
  }
 },
 "nbformat": 4,
 "nbformat_minor": 5
}
